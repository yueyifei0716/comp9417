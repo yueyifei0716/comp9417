{
 "cells": [
  {
   "cell_type": "code",
   "execution_count": 89,
   "metadata": {},
   "outputs": [],
   "source": [
    "import numpy as np\n",
    "import matplotlib.pyplot as plt\n",
    "from numpy.linalg import det, inv\n",
    "import pandas as pd\n",
    "from sklearn.model_selection import train_test_split"
   ]
  },
  {
   "cell_type": "markdown",
   "metadata": {},
   "source": [
    "# a)"
   ]
  },
  {
   "cell_type": "code",
   "execution_count": 90,
   "metadata": {},
   "outputs": [],
   "source": [
    "A = np.array([[1,2,1,-1], [-1,1,0,2], [0,-1,-2,1]])\n",
    "b = np.array([[3], [2], [-2]])\n",
    "A_t = A.T\n",
    "x0 = np.array([1,1,1,1]).reshape(4,1)"
   ]
  },
  {
   "cell_type": "code",
   "execution_count": 91,
   "metadata": {},
   "outputs": [],
   "source": [
    "def find_X(A, A_t, b, x0, alpha):\n",
    "    X = []\n",
    "    X.append(x0)\n",
    "    x = x0\n",
    "    k = 1\n",
    "    while True:\n",
    "        delta = (A_t @ A @ x) - (A_t @ b) + (0.2 * x)\n",
    "        if np.linalg.norm(delta, ord=2) < 0.001:\n",
    "            break\n",
    "\n",
    "        X_ = x - alpha*delta\n",
    "        x = X_\n",
    "        X.append(X_)\n",
    "        k = k + 1\n",
    "\n",
    "    return X"
   ]
  },
  {
   "cell_type": "code",
   "execution_count": 92,
   "metadata": {},
   "outputs": [
    {
     "name": "stdout",
     "output_type": "stream",
     "text": [
      "k = 0, x(k) = [1,1,1,1]\n",
      "k = 1, x(k) = [0.98,0.98,0.98,0.98]\n",
      "k = 2, x(k) = [0.9624,0.9804,0.9744,0.9584]\n",
      "k = 3, x(k) = [0.9427,0.9824,0.9668,0.9433]\n",
      "k = 4, x(k) = [0.9234,0.9866,0.9598,0.9295]\n",
      "k = 5, x(k) = [0.9044,0.9916,0.9526,0.9169]\n",
      "k = 272, x(k) = [0.0666,1.3366,0.4928,0.3251]\n",
      "k = 273, x(k) = [0.0666,1.3366,0.4928,0.325]\n",
      "k = 274, x(k) = [0.0665,1.3366,0.4927,0.325]\n",
      "k = 275, x(k) = [0.0664,1.3367,0.4927,0.3249]\n",
      "k = 276, x(k) = [0.0663,1.3367,0.4927,0.3249]\n"
     ]
    }
   ],
   "source": [
    "X = find_X(A, A_t, b, x0, 0.1)\n",
    "length = len(X)\n",
    "\n",
    "for i in range(0, 6):\n",
    "    x = X[i].T[0]\n",
    "    print(\"k = {}, x(k) = [{},{},{},{}]\".format(i,round(x[0],4) ,round(x[1],4), round(x[2],4), round(x[3],4)))\n",
    "\n",
    "\n",
    "for j in range(length - 5, length):\n",
    "    x = X[j].T[0]\n",
    "    print(\"k = {}, x(k) = [{},{},{},{}]\".format(j,round(x[0],4) ,round(x[1],4), round(x[2],4), round(x[3],4)))"
   ]
  },
  {
   "cell_type": "markdown",
   "metadata": {},
   "source": [
    "# b)\n",
    "\n",
    "   要求的精度更高了 所以需要花费更多的step 迭代速度变得更慢 时间会变长  有可能不能收敛"
   ]
  },
  {
   "cell_type": "markdown",
   "metadata": {},
   "source": [
    "# c)"
   ]
  },
  {
   "cell_type": "code",
   "execution_count": 93,
   "metadata": {},
   "outputs": [],
   "source": [
    "import torch\n",
    "import torch.nn as nn\n",
    "from torch import optim\n",
    "\n",
    "gamma = 0.2\n",
    "alpha = 0.1\n",
    "\n",
    "A = torch.tensor([[1., 2., 1., -1.], [-1., 1., 0., 2.], [0., -1., -2., 1.]])\n",
    "b = torch.tensor([[3.], [2.], [-2.]])\n",
    "A_t = A.t()\n",
    "x0 = torch.tensor([[1.], [1.], [1.], [1.]])\n",
    "\n",
    "x_dict = {}\n",
    "x_dict[0] = x0.tolist()\n",
    "x = x0.clone()\n",
    "\n",
    "class MyModel(nn.Module):\n",
    "    def __init__(self):\n",
    "        super().__init__()\n",
    "        self.x = nn.Parameter(x, requires_grad=True)\n",
    "    def forward(self, x):\n",
    "        z = torch.mul(torch.pow(torch.norm(torch.sub(torch.mm(A, x), b)), 2), 1/2)\n",
    "        w = torch.mul(torch.pow(torch.norm(x), 2), gamma/2)\n",
    "        return torch.add(z, w)\n",
    "\n",
    "model = MyModel()\n",
    "optimizer = optim.SGD(model.parameters(), lr=alpha)\n",
    "terminationCond = False\n",
    "\n",
    "k = 1\n",
    "\n",
    "while not terminationCond:\n",
    "    optimizer.zero_grad()\n",
    "    loss = model(model.x)\n",
    "    loss.backward()\n",
    "    optimizer.step()\n",
    "\n",
    "    if torch.norm(model.x.grad) < 0.001:\n",
    "        terminationCond = True\n",
    "    else:\n",
    "        x_dict[k] = model.x.tolist()\n",
    "        k = k + 1"
   ]
  },
  {
   "cell_type": "code",
   "execution_count": 94,
   "metadata": {},
   "outputs": [
    {
     "name": "stdout",
     "output_type": "stream",
     "text": [
      "k = 0, x(k) = [1.0,1.0,1.0,1.0]\n",
      "k = 1, x(k) = [0.98,0.98,0.98,0.98]\n",
      "k = 2, x(k) = [0.9624,0.9804,0.9744,0.9584]\n",
      "k = 3, x(k) = [0.9427,0.9824,0.9668,0.9433]\n",
      "k = 4, x(k) = [0.9234,0.9866,0.9598,0.9295]\n",
      "k = 5, x(k) = [0.9044,0.9916,0.9526,0.9169]\n",
      "k = 272, x(k) = [0.0666,1.3366,0.4928,0.3251]\n",
      "k = 273, x(k) = [0.0666,1.3366,0.4928,0.325]\n",
      "k = 274, x(k) = [0.0665,1.3366,0.4927,0.325]\n",
      "k = 275, x(k) = [0.0664,1.3367,0.4927,0.3249]\n",
      "k = 276, x(k) = [0.0663,1.3367,0.4927,0.3249]\n"
     ]
    }
   ],
   "source": [
    "length = len(x_dict)\n",
    "\n",
    "for i in range(0, 6):\n",
    "    x = x_dict[i]\n",
    "    # print(x[0][0])\n",
    "    print(\"k = {}, x(k) = [{},{},{},{}]\".format(i, round(x[0][0], 4) ,round(x[1][0], 4), round(x[2][0], 4), round(x[3][0], 4)))\n",
    "\n",
    "\n",
    "for j in range(length - 5, length):\n",
    "    x = x_dict[j]\n",
    "    print(\"k = {}, x(k) = [{},{},{},{}]\".format(j, round(x[0][0], 4) ,round(x[1][0], 4), round(x[2][0], 4), round(x[3][0], 4)))"
   ]
  },
  {
   "cell_type": "markdown",
   "metadata": {},
   "source": [
    "# d)"
   ]
  },
  {
   "cell_type": "code",
   "execution_count": 95,
   "metadata": {},
   "outputs": [],
   "source": [
    "from sklearn.preprocessing import StandardScaler\n",
    "\n",
    "data = pd.read_csv('CarSeats.csv')\n",
    "\n",
    "categorical_predictors = ['ShelveLoc','Urban','US']\n",
    "numerical_data = data.drop(categorical_predictors, axis=1)\n",
    "response = ['Sales']\n",
    "predictors=[x for x in list(numerical_data.columns) if x not in response]\n",
    "\n",
    "\n",
    "scaler = StandardScaler()\n",
    "numerical_data[predictors] = scaler.fit_transform(numerical_data[predictors])\n"
   ]
  },
  {
   "cell_type": "code",
   "execution_count": 96,
   "metadata": {},
   "outputs": [
    {
     "data": {
      "text/plain": [
       "CompPrice      3.483325e-16\n",
       "Income         5.162537e-17\n",
       "Advertising   -6.161738e-17\n",
       "Population     1.454392e-16\n",
       "Price         -6.994405e-17\n",
       "Age            1.786071e-16\n",
       "Education     -2.534084e-16\n",
       "dtype: float64"
      ]
     },
     "execution_count": 96,
     "metadata": {},
     "output_type": "execute_result"
    }
   ],
   "source": [
    "numerical_data[predictors].mean()"
   ]
  },
  {
   "cell_type": "code",
   "execution_count": 97,
   "metadata": {},
   "outputs": [
    {
     "data": {
      "text/plain": [
       "CompPrice      1.002506\n",
       "Income         1.002506\n",
       "Advertising    1.002506\n",
       "Population     1.002506\n",
       "Price          1.002506\n",
       "Age            1.002506\n",
       "Education      1.002506\n",
       "dtype: float64"
      ]
     },
     "execution_count": 97,
     "metadata": {},
     "output_type": "execute_result"
    }
   ],
   "source": [
    "numerical_data[predictors].var()"
   ]
  },
  {
   "cell_type": "code",
   "execution_count": 98,
   "metadata": {},
   "outputs": [],
   "source": [
    "target_mean = numerical_data[response].mean()\n",
    "numerical_data[response] = numerical_data[response]-target_mean\n",
    "X_train, X_test, Y_train, Y_test = train_test_split(numerical_data.iloc[:,1:], numerical_data.iloc[:,0], test_size=0.5, shuffle=False)"
   ]
  },
  {
   "cell_type": "code",
   "execution_count": 99,
   "metadata": {},
   "outputs": [
    {
     "data": {
      "text/html": [
       "<div>\n",
       "<style scoped>\n",
       "    .dataframe tbody tr th:only-of-type {\n",
       "        vertical-align: middle;\n",
       "    }\n",
       "\n",
       "    .dataframe tbody tr th {\n",
       "        vertical-align: top;\n",
       "    }\n",
       "\n",
       "    .dataframe thead th {\n",
       "        text-align: right;\n",
       "    }\n",
       "</style>\n",
       "<table border=\"1\" class=\"dataframe\">\n",
       "  <thead>\n",
       "    <tr style=\"text-align: right;\">\n",
       "      <th></th>\n",
       "      <th>CompPrice</th>\n",
       "      <th>Income</th>\n",
       "      <th>Advertising</th>\n",
       "      <th>Population</th>\n",
       "      <th>Price</th>\n",
       "      <th>Age</th>\n",
       "      <th>Education</th>\n",
       "    </tr>\n",
       "  </thead>\n",
       "  <tbody>\n",
       "    <tr>\n",
       "      <th>0</th>\n",
       "      <td>0.850455</td>\n",
       "      <td>0.155361</td>\n",
       "      <td>0.657177</td>\n",
       "      <td>0.075819</td>\n",
       "      <td>0.177823</td>\n",
       "      <td>-0.699782</td>\n",
       "      <td>1.184449</td>\n",
       "    </tr>\n",
       "  </tbody>\n",
       "</table>\n",
       "</div>"
      ],
      "text/plain": [
       "   CompPrice    Income  Advertising  Population     Price       Age  Education\n",
       "0   0.850455  0.155361     0.657177    0.075819  0.177823 -0.699782   1.184449"
      ]
     },
     "execution_count": 99,
     "metadata": {},
     "output_type": "execute_result"
    }
   ],
   "source": [
    "X_train.head(1)"
   ]
  },
  {
   "cell_type": "code",
   "execution_count": 100,
   "metadata": {},
   "outputs": [
    {
     "data": {
      "text/html": [
       "<div>\n",
       "<style scoped>\n",
       "    .dataframe tbody tr th:only-of-type {\n",
       "        vertical-align: middle;\n",
       "    }\n",
       "\n",
       "    .dataframe tbody tr th {\n",
       "        vertical-align: top;\n",
       "    }\n",
       "\n",
       "    .dataframe thead th {\n",
       "        text-align: right;\n",
       "    }\n",
       "</style>\n",
       "<table border=\"1\" class=\"dataframe\">\n",
       "  <thead>\n",
       "    <tr style=\"text-align: right;\">\n",
       "      <th></th>\n",
       "      <th>CompPrice</th>\n",
       "      <th>Income</th>\n",
       "      <th>Advertising</th>\n",
       "      <th>Population</th>\n",
       "      <th>Price</th>\n",
       "      <th>Age</th>\n",
       "      <th>Education</th>\n",
       "    </tr>\n",
       "  </thead>\n",
       "  <tbody>\n",
       "    <tr>\n",
       "      <th>199</th>\n",
       "      <td>-0.19425</td>\n",
       "      <td>0.692014</td>\n",
       "      <td>-0.246159</td>\n",
       "      <td>0.476656</td>\n",
       "      <td>0.431555</td>\n",
       "      <td>0.659918</td>\n",
       "      <td>0.038208</td>\n",
       "    </tr>\n",
       "  </tbody>\n",
       "</table>\n",
       "</div>"
      ],
      "text/plain": [
       "     CompPrice    Income  Advertising  Population     Price       Age  \\\n",
       "199   -0.19425  0.692014    -0.246159    0.476656  0.431555  0.659918   \n",
       "\n",
       "     Education  \n",
       "199   0.038208  "
      ]
     },
     "execution_count": 100,
     "metadata": {},
     "output_type": "execute_result"
    }
   ],
   "source": [
    "X_train.tail(1)"
   ]
  },
  {
   "cell_type": "code",
   "execution_count": 101,
   "metadata": {},
   "outputs": [
    {
     "data": {
      "text/html": [
       "<div>\n",
       "<style scoped>\n",
       "    .dataframe tbody tr th:only-of-type {\n",
       "        vertical-align: middle;\n",
       "    }\n",
       "\n",
       "    .dataframe tbody tr th {\n",
       "        vertical-align: top;\n",
       "    }\n",
       "\n",
       "    .dataframe thead th {\n",
       "        text-align: right;\n",
       "    }\n",
       "</style>\n",
       "<table border=\"1\" class=\"dataframe\">\n",
       "  <thead>\n",
       "    <tr style=\"text-align: right;\">\n",
       "      <th></th>\n",
       "      <th>CompPrice</th>\n",
       "      <th>Income</th>\n",
       "      <th>Advertising</th>\n",
       "      <th>Population</th>\n",
       "      <th>Price</th>\n",
       "      <th>Age</th>\n",
       "      <th>Education</th>\n",
       "    </tr>\n",
       "  </thead>\n",
       "  <tbody>\n",
       "    <tr>\n",
       "      <th>200</th>\n",
       "      <td>1.242219</td>\n",
       "      <td>0.835121</td>\n",
       "      <td>-0.998939</td>\n",
       "      <td>0.57177</td>\n",
       "      <td>1.277326</td>\n",
       "      <td>0.536309</td>\n",
       "      <td>-0.725953</td>\n",
       "    </tr>\n",
       "  </tbody>\n",
       "</table>\n",
       "</div>"
      ],
      "text/plain": [
       "     CompPrice    Income  Advertising  Population     Price       Age  \\\n",
       "200   1.242219  0.835121    -0.998939     0.57177  1.277326  0.536309   \n",
       "\n",
       "     Education  \n",
       "200  -0.725953  "
      ]
     },
     "execution_count": 101,
     "metadata": {},
     "output_type": "execute_result"
    }
   ],
   "source": [
    "X_test.head(1)"
   ]
  },
  {
   "cell_type": "code",
   "execution_count": 102,
   "metadata": {},
   "outputs": [
    {
     "data": {
      "text/html": [
       "<div>\n",
       "<style scoped>\n",
       "    .dataframe tbody tr th:only-of-type {\n",
       "        vertical-align: middle;\n",
       "    }\n",
       "\n",
       "    .dataframe tbody tr th {\n",
       "        vertical-align: top;\n",
       "    }\n",
       "\n",
       "    .dataframe thead th {\n",
       "        text-align: right;\n",
       "    }\n",
       "</style>\n",
       "<table border=\"1\" class=\"dataframe\">\n",
       "  <thead>\n",
       "    <tr style=\"text-align: right;\">\n",
       "      <th></th>\n",
       "      <th>CompPrice</th>\n",
       "      <th>Income</th>\n",
       "      <th>Advertising</th>\n",
       "      <th>Population</th>\n",
       "      <th>Price</th>\n",
       "      <th>Age</th>\n",
       "      <th>Education</th>\n",
       "    </tr>\n",
       "  </thead>\n",
       "  <tbody>\n",
       "    <tr>\n",
       "      <th>399</th>\n",
       "      <td>0.589279</td>\n",
       "      <td>-1.132606</td>\n",
       "      <td>-0.998939</td>\n",
       "      <td>-1.615848</td>\n",
       "      <td>0.177823</td>\n",
       "      <td>-0.26715</td>\n",
       "      <td>0.802369</td>\n",
       "    </tr>\n",
       "  </tbody>\n",
       "</table>\n",
       "</div>"
      ],
      "text/plain": [
       "     CompPrice    Income  Advertising  Population     Price      Age  \\\n",
       "399   0.589279 -1.132606    -0.998939   -1.615848  0.177823 -0.26715   \n",
       "\n",
       "     Education  \n",
       "399   0.802369  "
      ]
     },
     "execution_count": 102,
     "metadata": {},
     "output_type": "execute_result"
    }
   ],
   "source": [
    "X_test.tail(1)"
   ]
  },
  {
   "cell_type": "code",
   "execution_count": 103,
   "metadata": {},
   "outputs": [
    {
     "data": {
      "text/plain": [
       "0    2.003675\n",
       "Name: Sales, dtype: float64"
      ]
     },
     "execution_count": 103,
     "metadata": {},
     "output_type": "execute_result"
    }
   ],
   "source": [
    "Y_train.head(1)"
   ]
  },
  {
   "cell_type": "code",
   "execution_count": 104,
   "metadata": {},
   "outputs": [
    {
     "data": {
      "text/plain": [
       "199   -1.076325\n",
       "Name: Sales, dtype: float64"
      ]
     },
     "execution_count": 104,
     "metadata": {},
     "output_type": "execute_result"
    }
   ],
   "source": [
    "Y_train.tail(1)"
   ]
  },
  {
   "cell_type": "code",
   "execution_count": 105,
   "metadata": {},
   "outputs": [
    {
     "data": {
      "text/plain": [
       "200   -1.936325\n",
       "Name: Sales, dtype: float64"
      ]
     },
     "execution_count": 105,
     "metadata": {},
     "output_type": "execute_result"
    }
   ],
   "source": [
    "Y_test.head(1)"
   ]
  },
  {
   "cell_type": "code",
   "execution_count": 106,
   "metadata": {},
   "outputs": [
    {
     "data": {
      "text/plain": [
       "399    2.213675\n",
       "Name: Sales, dtype: float64"
      ]
     },
     "execution_count": 106,
     "metadata": {},
     "output_type": "execute_result"
    }
   ],
   "source": [
    "Y_test.tail(1)"
   ]
  },
  {
   "cell_type": "markdown",
   "metadata": {},
   "source": [
    "# e)"
   ]
  },
  {
   "cell_type": "code",
   "execution_count": 107,
   "metadata": {},
   "outputs": [
    {
     "name": "stdout",
     "output_type": "stream",
     "text": [
      "0    1.674911\n",
      "1    0.368707\n",
      "2    1.109761\n",
      "3    0.020805\n",
      "4   -2.321392\n",
      "5   -0.519396\n",
      "6   -0.149282\n",
      "dtype: float64\n"
     ]
    }
   ],
   "source": [
    "X_transpose = X_train.T\n",
    "B_ridge = np.linalg.inv(X_transpose@X_train + 0.5*np.identity(7))@X_transpose@Y_train\n",
    "\n",
    "print(B_ridge)"
   ]
  },
  {
   "cell_type": "code",
   "execution_count": 108,
   "metadata": {},
   "outputs": [
    {
     "data": {
      "text/plain": [
       "0    1.674911\n",
       "1    0.368707\n",
       "2    1.109761\n",
       "3    0.020805\n",
       "4   -2.321392\n",
       "5   -0.519396\n",
       "6   -0.149282\n",
       "dtype: float64"
      ]
     },
     "execution_count": 108,
     "metadata": {},
     "output_type": "execute_result"
    }
   ],
   "source": [
    "B_ridge"
   ]
  },
  {
   "cell_type": "code",
   "execution_count": 109,
   "metadata": {},
   "outputs": [
    {
     "data": {
      "text/html": [
       "<div>\n",
       "<style scoped>\n",
       "    .dataframe tbody tr th:only-of-type {\n",
       "        vertical-align: middle;\n",
       "    }\n",
       "\n",
       "    .dataframe tbody tr th {\n",
       "        vertical-align: top;\n",
       "    }\n",
       "\n",
       "    .dataframe thead th {\n",
       "        text-align: right;\n",
       "    }\n",
       "</style>\n",
       "<table border=\"1\" class=\"dataframe\">\n",
       "  <thead>\n",
       "    <tr style=\"text-align: right;\">\n",
       "      <th></th>\n",
       "      <th>CompPrice</th>\n",
       "      <th>Income</th>\n",
       "      <th>Advertising</th>\n",
       "      <th>Population</th>\n",
       "      <th>Price</th>\n",
       "      <th>Age</th>\n",
       "      <th>Education</th>\n",
       "    </tr>\n",
       "  </thead>\n",
       "  <tbody>\n",
       "    <tr>\n",
       "      <th>0</th>\n",
       "      <td>1</td>\n",
       "      <td>1</td>\n",
       "      <td>1</td>\n",
       "      <td>1</td>\n",
       "      <td>1</td>\n",
       "      <td>1</td>\n",
       "      <td>1</td>\n",
       "    </tr>\n",
       "  </tbody>\n",
       "</table>\n",
       "</div>"
      ],
      "text/plain": [
       "   CompPrice  Income  Advertising  Population  Price  Age  Education\n",
       "0          1       1            1           1      1    1          1"
      ]
     },
     "execution_count": 109,
     "metadata": {},
     "output_type": "execute_result"
    }
   ],
   "source": [
    "B0 = pd.DataFrame({'CompPrice':[1],\n",
    "                    'Income':[1],\n",
    "                    'Advertising':[1],\n",
    "                    'Population':[1],\n",
    "                    'Price':[1],\n",
    "                    'Age':[1],\n",
    "                    'Education':[1]   \n",
    "                  })\n",
    "B0"
   ]
  },
  {
   "cell_type": "code",
   "execution_count": 110,
   "metadata": {},
   "outputs": [
    {
     "name": "stdout",
     "output_type": "stream",
     "text": [
      "<class 'pandas.core.series.Series'>\n"
     ]
    }
   ],
   "source": [
    "b0 = B0.values.reshape(7,1)\n",
    "x = X_train.values.reshape(200,7)\n",
    "x_t = x.T.reshape(7,200)\n",
    "y = Y_train.values.reshape(200,1)\n",
    "\n",
    "print(type(B_ridge))"
   ]
  },
  {
   "cell_type": "code",
   "execution_count": 111,
   "metadata": {},
   "outputs": [
    {
     "data": {
      "text/plain": [
       "4.508398277623032"
      ]
     },
     "execution_count": 111,
     "metadata": {},
     "output_type": "execute_result"
    }
   ],
   "source": [
    "\n",
    "loss_hat = np.linalg.norm(y - x@B_ridge, ord = 2 )/200 + 0.5*np.linalg.norm(B_ridge, ord = 2 )\n",
    "loss_hat"
   ]
  },
  {
   "cell_type": "code",
   "execution_count": 112,
   "metadata": {},
   "outputs": [],
   "source": [
    "\n",
    "alphas = [0.000001, 0.000005, 0.00001, 0.00005, 0.0001, 0.0005, 0.001, 0.005, 0.01]"
   ]
  },
  {
   "cell_type": "code",
   "execution_count": 113,
   "metadata": {},
   "outputs": [],
   "source": [
    "def loss_function(y, x, B):\n",
    "    loss = np.linalg.norm(y - x@B, ord = 2 )**2/200 + 0.5*np.linalg.norm(B, ord = 2 )**2\n",
    "    return loss"
   ]
  },
  {
   "cell_type": "code",
   "execution_count": 114,
   "metadata": {},
   "outputs": [],
   "source": [
    "def find_beta(b0, x, y, x_t,alpha):\n",
    "    b = b0\n",
    "    Betas = []\n",
    "    Betas.append(b)\n",
    "    for k in range(1, 1001):\n",
    "        B = b - alpha*(-2*x_t@(y-x@b) + 200*b)/200\n",
    "        b = B\n",
    "        Betas.append(B)\n",
    "        \n",
    "    return Betas   "
   ]
  },
  {
   "cell_type": "code",
   "execution_count": 115,
   "metadata": {},
   "outputs": [],
   "source": [
    "def find_delta(b0, x, y, x_t,loss_hat,alpha):\n",
    "    Deltas = []\n",
    "    Betas = find_beta(b0, x, y, x_t,alpha)\n",
    "    \n",
    "    for B in Betas:        \n",
    "        loss = np.linalg.norm(y - x@B, ord = 2 )**2/200 + 0.5*np.linalg.norm(B, ord = 2 )**2     \n",
    "        delta = loss - loss_hat\n",
    "        Deltas.append(delta)\n",
    "    return Deltas"
   ]
  },
  {
   "cell_type": "code",
   "execution_count": 116,
   "metadata": {},
   "outputs": [],
   "source": [
    "\n",
    "def ridge_graph(b0, x, y, x_t, loss_hat, alpha):\n",
    "    deltas = find_delta(b0, x, y, x_t, loss_hat, alpha)\n",
    "    k = np.arange(0,len(deltas)) \n",
    "    \n",
    "    plt.plot(k, deltas, color='blue')      \n",
    "    plt.xlabel(\"k\")                                    \n",
    "    plt.ylabel(\"Delta\")\n",
    "    plt.title(\"alpha=\"+str(alpha),pad=15)"
   ]
  },
  {
   "cell_type": "code",
   "execution_count": 117,
   "metadata": {},
   "outputs": [
    {
     "data": {
      "image/png": "[encoded data removed]",
      "text/plain": [
       "<Figure size 432x288 with 9 Axes>"
      ]
     },
     "metadata": {
      "needs_background": "light"
     },
     "output_type": "display_data"
    }
   ],
   "source": [
    "i = 1\n",
    "for alpha in alphas:\n",
    "    plt.subplot(3,3,i)\n",
    "    ridge_graph(b0, x, y, x_t, loss_hat, alpha)\n",
    "    i = i + 1\n",
    "\n",
    "plt.tight_layout()\n",
    "plt.show()"
   ]
  },
  {
   "cell_type": "code",
   "execution_count": 118,
   "metadata": {},
   "outputs": [],
   "source": [
    "Betas = find_beta(b0, x, y, x_t,0.01)\n",
    "B = Betas[1000]"
   ]
  },
  {
   "cell_type": "code",
   "execution_count": 119,
   "metadata": {},
   "outputs": [],
   "source": [
    "\n",
    "train_mse = (np.linalg.norm(y - x@B , ord = 2)**2)/200\n",
    "\n",
    "y_ts = Y_test.values.reshape(200,1)\n",
    "x_ts= X_test.values.reshape(200,7)\n",
    "test_mse = (np.linalg.norm(y_ts - x_ts@B , ord = 2)**2)/200"
   ]
  },
  {
   "cell_type": "code",
   "execution_count": 120,
   "metadata": {},
   "outputs": [
    {
     "name": "stdout",
     "output_type": "stream",
     "text": [
      "The train MSE is 4.558906724365393\n",
      "The test MSE is 4.38042918327184\n"
     ]
    }
   ],
   "source": [
    "print(\"The train MSE is {}\".format(train_mse))\n",
    "print(\"The test MSE is {}\".format(test_mse))"
   ]
  }
 ],
 "metadata": {
  "kernelspec": {
   "display_name": "Python 3.8.13 ('base')",
   "language": "python",
   "name": "python3"
  },
  "language_info": {
   "codemirror_mode": {
    "name": "ipython",
    "version": 3
   },
   "file_extension": ".py",
   "mimetype": "text/x-python",
   "name": "python",
   "nbconvert_exporter": "python",
   "pygments_lexer": "ipython3",
   "version": "3.8.13"
  },
  "orig_nbformat": 4,
  "vscode": {
   "interpreter": {
    "hash": "40d3a090f54c6569ab1632332b64b2c03c39dcf918b08424e98f38b5ae0af88f"
   }
  }
 },
 "nbformat": 4,
 "nbformat_minor": 2
}
