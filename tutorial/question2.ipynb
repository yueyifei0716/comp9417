{
 "cells": [
  {
   "cell_type": "code",
   "execution_count": 49,
   "metadata": {
    "collapsed": true,
    "pycharm": {
     "name": "#%%\n"
    }
   },
   "outputs": [],
   "source": [
    "import numpy as np\n",
    "import matplotlib.pyplot as plt\n",
    "import pandas as pd"
   ]
  },
  {
   "cell_type": "code",
   "execution_count": 50,
   "outputs": [
    {
     "name": "stdout",
     "output_type": "stream",
     "text": [
      "[19, 41, 109, 144, 230, 301]\n"
     ]
    },
    {
     "data": {
      "text/plain": "      age  nearestMRT  nConvenience  price\n0    32.0    84.87882          10.0   37.9\n1    19.5   306.59470           9.0   42.2\n2    13.3   561.98450           5.0   47.3\n3    13.3   561.98450           5.0   54.8\n4     5.0   390.56840           5.0   43.1\n..    ...         ...           ...    ...\n409  13.7  4082.01500           0.0   15.4\n410   5.6    90.45606           9.0   50.0\n411  18.8   390.96960           7.0   40.6\n412   8.1   104.81010           5.0   52.5\n413   6.5    90.45606           9.0   63.9\n\n[408 rows x 4 columns]",
      "text/html": "<div>\n<style scoped>\n    .dataframe tbody tr th:only-of-type {\n        vertical-align: middle;\n    }\n\n    .dataframe tbody tr th {\n        vertical-align: top;\n    }\n\n    .dataframe thead th {\n        text-align: right;\n    }\n</style>\n<table border=\"1\" class=\"dataframe\">\n  <thead>\n    <tr style=\"text-align: right;\">\n      <th></th>\n      <th>age</th>\n      <th>nearestMRT</th>\n      <th>nConvenience</th>\n      <th>price</th>\n    </tr>\n  </thead>\n  <tbody>\n    <tr>\n      <th>0</th>\n      <td>32.0</td>\n      <td>84.87882</td>\n      <td>10.0</td>\n      <td>37.9</td>\n    </tr>\n    <tr>\n      <th>1</th>\n      <td>19.5</td>\n      <td>306.59470</td>\n      <td>9.0</td>\n      <td>42.2</td>\n    </tr>\n    <tr>\n      <th>2</th>\n      <td>13.3</td>\n      <td>561.98450</td>\n      <td>5.0</td>\n      <td>47.3</td>\n    </tr>\n    <tr>\n      <th>3</th>\n      <td>13.3</td>\n      <td>561.98450</td>\n      <td>5.0</td>\n      <td>54.8</td>\n    </tr>\n    <tr>\n      <th>4</th>\n      <td>5.0</td>\n      <td>390.56840</td>\n      <td>5.0</td>\n      <td>43.1</td>\n    </tr>\n    <tr>\n      <th>...</th>\n      <td>...</td>\n      <td>...</td>\n      <td>...</td>\n      <td>...</td>\n    </tr>\n    <tr>\n      <th>409</th>\n      <td>13.7</td>\n      <td>4082.01500</td>\n      <td>0.0</td>\n      <td>15.4</td>\n    </tr>\n    <tr>\n      <th>410</th>\n      <td>5.6</td>\n      <td>90.45606</td>\n      <td>9.0</td>\n      <td>50.0</td>\n    </tr>\n    <tr>\n      <th>411</th>\n      <td>18.8</td>\n      <td>390.96960</td>\n      <td>7.0</td>\n      <td>40.6</td>\n    </tr>\n    <tr>\n      <th>412</th>\n      <td>8.1</td>\n      <td>104.81010</td>\n      <td>5.0</td>\n      <td>52.5</td>\n    </tr>\n    <tr>\n      <th>413</th>\n      <td>6.5</td>\n      <td>90.45606</td>\n      <td>9.0</td>\n      <td>63.9</td>\n    </tr>\n  </tbody>\n</table>\n<p>408 rows × 4 columns</p>\n</div>"
     },
     "execution_count": 50,
     "metadata": {},
     "output_type": "execute_result"
    }
   ],
   "source": [
    "# Question a\n",
    "df = pd.read_csv(\"real_estate.csv\")\n",
    "\n",
    "# print(df.shape[0])\n",
    "arr1 = list(df.index.values)\n",
    "# print(arr1)\n",
    "df = df.dropna()\n",
    "\n",
    "arr2 = list(df.index.values)\n",
    "# print(arr2)\n",
    "\n",
    "removed = [ i for i in arr1 if i not in arr2 ]\n",
    "\n",
    "print(removed)\n",
    "# X = df[[\"age\", \"nearestMRT\", \"nConvenience\"]].values\n",
    "\n",
    "df = df.loc[:, [\"age\", \"nearestMRT\", \"nConvenience\", \"price\"]]\n",
    "\n",
    "df"
   ],
   "metadata": {
    "collapsed": false,
    "pycharm": {
     "name": "#%%\n"
    }
   }
  },
  {
   "cell_type": "code",
   "execution_count": 53,
   "outputs": [
    {
     "data": {
      "text/plain": "age             0.406079\nnearestMRT      0.162643\nnConvenience    0.412010\ndtype: float64"
     },
     "execution_count": 53,
     "metadata": {},
     "output_type": "execute_result"
    }
   ],
   "source": [
    "# Question b\n",
    "\n",
    "# preprocessing\n",
    "from sklearn.preprocessing import MinMaxScaler\n",
    "\n",
    "\n",
    "# X = df.loc[:, [\"age\", \"nearestMRT\", \"nConvenience\"]]\n",
    "scaler = MinMaxScaler()\n",
    "# X = scaler.fit_transform(X)\n",
    "df[[\"age\", \"nearestMRT\", \"nConvenience\"]] = pd.DataFrame(scaler.fit_transform(df[[\"age\", \"nearestMRT\", \"nConvenience\"]].values),\n",
    "                                                         columns=[\"age\", \"nearestMRT\", \"nConvenience\"], index=df.index)\n",
    "y = df[\"price\"].values\n",
    "\n",
    "np.mean(df[[\"age\", \"nearestMRT\", \"nConvenience\"]], axis=0)\n",
    "\n",
    "# D = df.to_numpy()"
   ],
   "metadata": {
    "collapsed": false,
    "pycharm": {
     "name": "#%%\n"
    }
   }
  },
  {
   "cell_type": "code",
   "execution_count": 56,
   "outputs": [
    {
     "name": "stdout",
     "output_type": "stream",
     "text": [
      "first row Xtrain:  [0.73059361 0.00951267 1.        ]\n",
      "last row Xtrain:  [0.87899543 0.09926012 0.3       ]\n",
      "first row Xtest:  [0.26255708 0.20677973 0.1       ]\n",
      "last row Xtest:  [0.14840183 0.0103754  0.9       ]\n",
      "first row ytrain:  37.9\n",
      "last row ytrain:  34.2\n",
      "first row ytest:  26.2\n",
      "last row ytest:  63.9\n"
     ]
    }
   ],
   "source": [
    "# Question c\n",
    "\n",
    "X = df[[\"age\", \"nearestMRT\", \"nConvenience\"]].to_numpy()\n",
    "# train/test split\n",
    "X = np.concatenate((np.ones([len(X), 1]), X), axis=1)\n",
    "split_point = X.shape[0] // 2\n",
    "X_train = X[:split_point]\n",
    "X_test = X[split_point:]\n",
    "y_train = y[:split_point]\n",
    "y_test = y[split_point:]\n",
    "\n",
    "# printing\n",
    "print(\"first row Xtrain: \", X_train[0][1:])\n",
    "print(\"last row Xtrain: \", X_train[-1][1:])\n",
    "print(\"first row Xtest: \", X_test[0][1:])\n",
    "print(\"last row Xtest: \", X_test[-1][1:])\n",
    "print(\"first row ytrain: \", y_train[0])\n",
    "print(\"last row ytrain: \", y_train[-1])\n",
    "print(\"first row ytest: \", y_test[0])\n",
    "print(\"last row ytest: \", y_test[-1])"
   ],
   "metadata": {
    "collapsed": false,
    "pycharm": {
     "name": "#%%\n"
    }
   }
  },
  {
   "cell_type": "code",
   "execution_count": null,
   "outputs": [],
   "source": [],
   "metadata": {
    "collapsed": false,
    "pycharm": {
     "name": "#%%\n"
    }
   }
  },
  {
   "cell_type": "code",
   "execution_count": null,
   "outputs": [],
   "source": [],
   "metadata": {
    "collapsed": false,
    "pycharm": {
     "name": "#%%\n"
    }
   }
  },
  {
   "cell_type": "code",
   "execution_count": null,
   "outputs": [],
   "source": [
    "X = np.concatenate((np.ones([len(X), 1]), X), axis=1)"
   ],
   "metadata": {
    "collapsed": false,
    "pycharm": {
     "name": "#%%\n"
    }
   }
  },
  {
   "cell_type": "code",
   "execution_count": null,
   "outputs": [],
   "source": [
    "X = np.concatenate((np.ones([len(X), 1]), X), axis=1)"
   ],
   "metadata": {
    "collapsed": false,
    "pycharm": {
     "name": "#%%\n"
    }
   }
  },
  {
   "cell_type": "code",
   "execution_count": null,
   "outputs": [],
   "source": [
    "X"
   ],
   "metadata": {
    "collapsed": false,
    "pycharm": {
     "name": "#%%\n"
    }
   }
  },
  {
   "cell_type": "code",
   "execution_count": null,
   "outputs": [],
   "source": [],
   "metadata": {
    "collapsed": false,
    "pycharm": {
     "name": "#%%\n"
    }
   }
  }
 ],
 "metadata": {
  "kernelspec": {
   "display_name": "Python 3",
   "language": "python",
   "name": "python3"
  },
  "language_info": {
   "codemirror_mode": {
    "name": "ipython",
    "version": 2
   },
   "file_extension": ".py",
   "mimetype": "text/x-python",
   "name": "python",
   "nbconvert_exporter": "python",
   "pygments_lexer": "ipython2",
   "version": "2.7.6"
  }
 },
 "nbformat": 4,
 "nbformat_minor": 0
}