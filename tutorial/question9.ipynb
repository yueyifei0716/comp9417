{
 "cells": [
  {
   "cell_type": "code",
   "execution_count": 1,
   "metadata": {
    "collapsed": true,
    "pycharm": {
     "name": "#%%\n"
    }
   },
   "outputs": [],
   "source": [
    "import itertools\n",
    "import numpy as np"
   ]
  },
  {
   "cell_type": "code",
   "execution_count": 3,
   "outputs": [],
   "source": [
    "def perceptron(X, y, max_iter=10000):\n",
    "    np.random.seed(1)\n",
    "    w = np.zeros(X.shape[1])\n",
    "    ctr = 0\n",
    "    for _ in range(max_iter):\n",
    "        # check which indices we make mistakes on, and pick one randomly to update\n",
    "        yXw = (y * X) @ w.T\n",
    "        mistake_idxs = np.where(yXw <= 0)[0]\n",
    "        if mistake_idxs.size > 0:\n",
    "            ctr += 1\n",
    "            i = np.random.choice(mistake_idxs)  # pick idx randomly\n",
    "            w = w + y[i] * X[i]                 # update w\n",
    "    return w, ctr, 'separable' if ctr < max_iter else 'not separable'"
   ],
   "metadata": {
    "collapsed": false,
    "pycharm": {
     "name": "#%%\n"
    }
   }
  },
  {
   "cell_type": "code",
   "execution_count": 4,
   "outputs": [
    {
     "data": {
      "text/plain": "(array([-2.,  0.,  4., -1.]), 100000, 'not separable')"
     },
     "execution_count": 4,
     "metadata": {},
     "output_type": "execute_result"
    }
   ],
   "source": [
    "# (i)\n",
    "X = np.array(list(itertools.product([0, 1], repeat=3)))\n",
    "X = np.hstack((np.ones(X.shape[0]).reshape(-1,1), X))\n",
    "Y = np.array([-1,-1,1,1,1,-1,-1, 1]).reshape(-1,1)\n",
    "w, ctr, iters = perceptron(X, Y, max_iter=100000)\n",
    "w, ctr, iters\n"
   ],
   "metadata": {
    "collapsed": false,
    "pycharm": {
     "name": "#%%\n"
    }
   }
  },
  {
   "cell_type": "code",
   "execution_count": 5,
   "outputs": [
    {
     "data": {
      "text/plain": "(array([-2.,  0., -3.,  1.]), 100000, 'not separable')"
     },
     "execution_count": 5,
     "metadata": {},
     "output_type": "execute_result"
    }
   ],
   "source": [
    "# (ii)\n",
    "X = np.array(list(itertools.product([0, 1], repeat=3)))\n",
    "X = np.hstack((np.ones(X.shape[0]).reshape(-1,1), X))\n",
    "Y = np.array([-1,-1,-1,1,1,1,-1,-1]).reshape(-1,1)\n",
    "w, ctr, iters = perceptron(X, Y, max_iter=100000)\n",
    "w, ctr, iters\n"
   ],
   "metadata": {
    "collapsed": false,
    "pycharm": {
     "name": "#%%\n"
    }
   }
  },
  {
   "cell_type": "code",
   "execution_count": 6,
   "outputs": [
    {
     "data": {
      "text/plain": "(array([-1.,  2.,  4., -2., -2.]), 17, 'separable')"
     },
     "execution_count": 6,
     "metadata": {},
     "output_type": "execute_result"
    }
   ],
   "source": [
    "# (iii)\n",
    "X = np.array(list(itertools.product([0, 1], repeat=4)))\n",
    "X = np.hstack((np.ones(X.shape[0]).reshape(-1,1), X))\n",
    "Y = np.array([-1,-1,-1,-1,1,1,1,-1,1,-1,-1,-1,1,1,1,1]).reshape(-1,1)\n",
    "w, ctr, iters = perceptron(X, Y, max_iter=100000)\n",
    "w, ctr, iters\n"
   ],
   "metadata": {
    "collapsed": false,
    "pycharm": {
     "name": "#%%\n"
    }
   }
  },
  {
   "cell_type": "code",
   "execution_count": 7,
   "outputs": [
    {
     "data": {
      "text/plain": "(array([ 1., -4., -4., -5., -2., -5.,  2.]), 53, 'separable')"
     },
     "execution_count": 7,
     "metadata": {},
     "output_type": "execute_result"
    }
   ],
   "source": [
    "# (iv)\n",
    "X = np.array(list(itertools.product([0, 1], repeat=6)))\n",
    "X = np.hstack((np.ones(X.shape[0]).reshape(-1,1), X))\n",
    "Y = -1 * np.ones(X.shape[0])\n",
    "Y[0] = 1\n",
    "Y[1] = 1\n",
    "Y[5] = 1\n",
    "Y = Y.reshape(-1,1)\n",
    "w, ctr, iters = perceptron(X, Y, max_iter=100000)\n",
    "w, ctr, iters"
   ],
   "metadata": {
    "collapsed": false,
    "pycharm": {
     "name": "#%%\n"
    }
   }
  },
  {
   "cell_type": "code",
   "execution_count": 1,
   "outputs": [
    {
     "name": "stderr",
     "output_type": "stream",
     "text": [
      "/opt/anaconda3/envs/nlp/lib/python3.8/site-packages/scipy/__init__.py:146: UserWarning: A NumPy version >=1.16.5 and <1.23.0 is required for this version of SciPy (detected version 1.23.1\n",
      "  warnings.warn(f\"A NumPy version >={np_minversion} and <{np_maxversion}\"\n"
     ]
    }
   ],
   "source": [
    "from sklearn.cluster import KMeans\n",
    "import numpy as np\n",
    "\n",
    "X = np.array([[5,3],\n",
    "             [4,4],\n",
    "             [6,3],\n",
    "             [5,4],\n",
    "             [2,3]])\n",
    "kmeans = KMeans(n_clusters=2)\n",
    "# kmeans.fit(X)\n",
    "# y_kmeans = kmeans.predict(X)"
   ],
   "metadata": {
    "collapsed": false,
    "pycharm": {
     "name": "#%%\n"
    }
   }
  },
  {
   "cell_type": "code",
   "execution_count": null,
   "outputs": [],
   "source": [
    "kmeans.fit(X)"
   ],
   "metadata": {
    "collapsed": false,
    "pycharm": {
     "name": "#%%\n",
     "is_executing": true
    }
   }
  },
  {
   "cell_type": "code",
   "execution_count": null,
   "outputs": [],
   "source": [],
   "metadata": {
    "collapsed": false,
    "pycharm": {
     "name": "#%%\n"
    }
   }
  }
 ],
 "metadata": {
  "kernelspec": {
   "display_name": "Python 3",
   "language": "python",
   "name": "python3"
  },
  "language_info": {
   "codemirror_mode": {
    "name": "ipython",
    "version": 2
   },
   "file_extension": ".py",
   "mimetype": "text/x-python",
   "name": "python",
   "nbconvert_exporter": "python",
   "pygments_lexer": "ipython2",
   "version": "2.7.6"
  }
 },
 "nbformat": 4,
 "nbformat_minor": 0
}